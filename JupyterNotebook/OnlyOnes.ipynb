{
 "cells": [
  {
   "cell_type": "code",
   "execution_count": null,
   "id": "original-force",
   "metadata": {},
   "outputs": [],
   "source": [
    "import findspark\n",
    "findspark.init()\n",
    "import pyspark\n",
    "sc = pyspark.SparkContext(appName=\"OnlyOnes\")\n",
    "from pyspark.sql.session import SparkSession\n",
    "spark = SparkSession(sc)\n",
    "\n",
    "\n",
    "from pyspark.sql import Row,HiveContext, functions as F"
   ]
  },
  {
   "cell_type": "code",
   "execution_count": null,
   "id": "marked-immunology",
   "metadata": {},
   "outputs": [],
   "source": [
    "from time import sleep\n",
    "from IPython.display import clear_output\n",
    "\n",
    "def get_sql_context_instance(spark_context):\n",
    "            if ('sqlContextSingletonInstance' not in globals()):\n",
    "               globals()['sqlContextSingletonInstance'] = HiveContext(spark_context)\n",
    "            return globals()['sqlContextSingletonInstance']\n",
    "        \n",
    "sql_context = get_sql_context_instance(sc)\n",
    "\n",
    "\n",
    "\n",
    "while(True):\n",
    "    sql_context.sql(\"refresh table test\")\n",
    "    \n",
    "    data = sql_context.sql(\"select * from test\").orderBy(\"date\", ascending=False).limit(5).collect()\n",
    "    \n",
    "    for i, row in enumerate(data):\n",
    "        print(\"Tweet: \" + data[i][0])\n",
    "        print(\"Score: \" + data[i][1])\n",
    "        print(\"\\n-------------------------------- TWEET --------------------------------\\n\")\n",
    "    sleep(10)\n",
    "    clear_output(wait=True)\n",
    "    "
   ]
  },
  {
   "cell_type": "code",
   "execution_count": null,
   "id": "ethical-spare",
   "metadata": {},
   "outputs": [],
   "source": []
  }
 ],
 "metadata": {
  "kernelspec": {
   "display_name": "Python 3",
   "language": "python",
   "name": "python3"
  },
  "language_info": {
   "codemirror_mode": {
    "name": "ipython",
    "version": 3
   },
   "file_extension": ".py",
   "mimetype": "text/x-python",
   "name": "python",
   "nbconvert_exporter": "python",
   "pygments_lexer": "ipython3",
   "version": "3.8.8"
  }
 },
 "nbformat": 4,
 "nbformat_minor": 5
}
