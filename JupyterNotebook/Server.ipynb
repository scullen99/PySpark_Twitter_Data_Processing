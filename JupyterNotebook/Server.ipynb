{
 "cells": [
  {
   "cell_type": "markdown",
   "id": "mathematical-extension",
   "metadata": {},
   "source": [
    "# Server"
   ]
  },
  {
   "cell_type": "markdown",
   "id": "thermal-hardwood",
   "metadata": {},
   "source": [
    "## Importar las librerías"
   ]
  },
  {
   "cell_type": "code",
   "execution_count": null,
   "id": "a0373047",
   "metadata": {},
   "outputs": [],
   "source": [
    "# Spark\n",
    "from pyspark import SparkConf,SparkContext\n",
    "from pyspark.streaming import StreamingContext\n",
    "from pyspark.sql import Row,SQLContext, HiveContext, functions as F\n",
    "import sys, requests, findspark\n",
    "\n",
    "# Otras\n",
    "from deep_translator import GoogleTranslator\n",
    "# IMPORTANTE: from vaderSentiment.vaderSentiment funciona en spark 3.0 para adelante\n",
    "from vaderSentiment.vaderSentiment import SentimentIntensityAnalyzer\n",
    "from datetime import datetime\n",
    "from operator import add\n",
    "import json\n",
    "# Para limpieza de texto\n",
    "import re"
   ]
  },
  {
   "cell_type": "markdown",
   "id": "supreme-chocolate",
   "metadata": {},
   "source": [
    "## Establece las configuraciones de Spark y crea el contexto de Spark"
   ]
  },
  {
   "cell_type": "code",
   "execution_count": null,
   "id": "b8567f0a",
   "metadata": {},
   "outputs": [],
   "source": [
    "sc = SparkContext(\"local[*]\", \"server\")\n",
    "globals()['sqlContextSingletonInstance'] = HiveContext(sc)"
   ]
  },
  {
   "cell_type": "markdown",
   "id": "absent-slovakia",
   "metadata": {},
   "source": [
    "#### El streaming context es un siervo del demoño, adorador de satán y de los pokimans"
   ]
  },
  {
   "cell_type": "code",
   "execution_count": null,
   "id": "ee42734e",
   "metadata": {
    "scrolled": true
   },
   "outputs": [],
   "source": [
    "# Intervalos de 5 segundos\n",
    "ssc = StreamingContext(sc, 5)"
   ]
  },
  {
   "cell_type": "markdown",
   "id": "boolean-attraction",
   "metadata": {},
   "source": [
    "## Crea un DStream que se conecta a un puerto"
   ]
  },
  {
   "cell_type": "code",
   "execution_count": null,
   "id": "4b12bcce",
   "metadata": {},
   "outputs": [],
   "source": [
    "# IMPORTANTE: ESTABLECER EL MISMO PUERTO EN CALLER Y SERVER\n",
    "# Puerto usado: 9009 (MIRAR POR QUÉ FALLAN OTROS)\n",
    "lines = ssc.socketTextStream(\"localhost\", 9009)"
   ]
  },
  {
   "cell_type": "markdown",
   "id": "willing-advance",
   "metadata": {},
   "source": [
    "## Preprocesa los tweets recibidos"
   ]
  },
  {
   "cell_type": "code",
   "execution_count": null,
   "id": "8e6c6ae9",
   "metadata": {},
   "outputs": [],
   "source": [
    "processedLines = lines.map(lambda line: re.sub(r'http\\S+', '', line)) \\\n",
    "                      .map(lambda line: re.sub('RT', '', line)) \\\n",
    "                      .map(lambda line: re.sub('@\\w+', '', line)) \\\n",
    "                      .map(lambda line: re.sub('#', '', line)) \\\n",
    "                      .map(lambda line: re.sub(':', '', line))"
   ]
  },
  {
   "cell_type": "markdown",
   "id": "divine-ownership",
   "metadata": {},
   "source": [
    "## Traducción al inglés"
   ]
  },
  {
   "cell_type": "code",
   "execution_count": null,
   "id": "e6f98065",
   "metadata": {},
   "outputs": [],
   "source": [
    "translator = GoogleTranslator(source='es', target='en')\n",
    "\n",
    "def translateFunc(text):\n",
    "    translated = \"\"\n",
    "    try:\n",
    "        translated = translator.translate(text)\n",
    "    except:\n",
    "        translated = \"\"\n",
    "    return translated\n",
    "\n",
    "translatedLines = processedLines.map(lambda line: translateFunc(line)).filter(lambda x: x != \"\")"
   ]
  },
  {
   "cell_type": "markdown",
   "id": "seventh-playing",
   "metadata": {},
   "source": [
    "## Análisis de sentimientos - Vader Sentiment Analysis"
   ]
  },
  {
   "cell_type": "code",
   "execution_count": null,
   "id": "a7e58cf0",
   "metadata": {},
   "outputs": [],
   "source": [
    "analyser = SentimentIntensityAnalyzer()\n",
    "def sentiment_score(tweet):\n",
    "    score = analyser.polarity_scores(tweet)\n",
    "    return (tweet, str(score))"
   ]
  },
  {
   "cell_type": "markdown",
   "id": "egyptian-restoration",
   "metadata": {},
   "source": [
    "## Crear y guardar tablas"
   ]
  },
  {
   "cell_type": "code",
   "execution_count": null,
   "id": "convenient-swaziland",
   "metadata": {},
   "outputs": [],
   "source": [
    "def get_sql_context_instance(spark_context):\n",
    "            if ('sqlContextSingletonInstance' not in globals()):\n",
    "               globals()['sqlContextSingletonInstance'] = HiveContext(sc)\n",
    "            return globals()['sqlContextSingletonInstance']\n",
    "        \n",
    "def process_rdd(time, rdd):\n",
    "            print(\"----------- %s -----------\" % str(time))\n",
    "            try:\n",
    "                sql_context = get_sql_context_instance(rdd.context)\n",
    "                # convierte el RDD a Row RDD\n",
    "                now = datetime.now().strftime(\"%Y-%m-%d %H:%M:%S\")\n",
    "                row_rdd = rdd.map(lambda w: Row(tweet=w[0], score=w[1], date=now))\n",
    "                # crea un DF desde el Row RDD\n",
    "                tweet_df = sql_context.createDataFrame(row_rdd)\n",
    "\n",
    "                table_list=sql_context.sql(\"\"\"show tables\"\"\")\n",
    "                table_name=table_list.filter(table_list.tableName==\"test\").collect()\n",
    "\n",
    "                if len(table_name)==0:\n",
    "                    tweet_df.write.saveAsTable(\"test\")\n",
    "                else:\n",
    "                    tweet_df.write.insertInto(\"test\", overwrite=False)\n",
    "\n",
    "                tweet_counts_df = sql_context.sql(\"select tweet, score from test\")\n",
    "                tweet_counts_df.show()\n",
    "            except:\n",
    "                e = sys.exc_info()\n",
    "                print(e)"
   ]
  },
  {
   "cell_type": "markdown",
   "id": "essential-cathedral",
   "metadata": {},
   "source": [
    "## Aplica Análisis de Sentimientos a los twits traducidas"
   ]
  },
  {
   "cell_type": "code",
   "execution_count": null,
   "id": "adbd8136",
   "metadata": {},
   "outputs": [],
   "source": [
    "analysedLines = translatedLines.map(lambda line: sentiment_score(line))\n",
    "\n",
    "analysedLines.foreachRDD(process_rdd)"
   ]
  },
  {
   "cell_type": "code",
   "execution_count": null,
   "id": "chicken-colombia",
   "metadata": {},
   "outputs": [],
   "source": [
    "ssc.start()\n",
    "\n",
    "ssc.awaitTermination()"
   ]
  },
  {
   "cell_type": "code",
   "execution_count": null,
   "id": "buried-municipality",
   "metadata": {},
   "outputs": [],
   "source": []
  }
 ],
 "metadata": {
  "kernelspec": {
   "display_name": "Python 3",
   "language": "python",
   "name": "python3"
  },
  "language_info": {
   "codemirror_mode": {
    "name": "ipython",
    "version": 3
   },
   "file_extension": ".py",
   "mimetype": "text/x-python",
   "name": "python",
   "nbconvert_exporter": "python",
   "pygments_lexer": "ipython3",
   "version": "3.8.8"
  }
 },
 "nbformat": 4,
 "nbformat_minor": 5
}
